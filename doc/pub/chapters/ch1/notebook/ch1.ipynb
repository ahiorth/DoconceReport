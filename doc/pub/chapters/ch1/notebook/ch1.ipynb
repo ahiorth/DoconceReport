{
 "cells": [
  {
   "cell_type": "markdown",
   "metadata": {},
   "source": [
    "# Introduction\n",
    "More great results here"
   ]
  }
 ],
 "metadata": {},
 "nbformat": 4,
 "nbformat_minor": 4
}
