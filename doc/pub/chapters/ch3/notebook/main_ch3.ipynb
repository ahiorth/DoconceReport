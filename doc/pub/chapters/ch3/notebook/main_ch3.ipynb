{
 "cells": [
  {
   "cell_type": "markdown",
   "metadata": {},
   "source": [
    "<!-- dom:TITLE: Chapter Two -->\n",
    "# Chapter Two\n",
    "<!-- dom:AUTHOR: Aksel Hiorth Institute for Energy Resources, -->\n",
    "<!-- Author: -->  \n",
    "**Aksel Hiorth Institute for Energy Resources,**\n",
    "University of Stavanger\n",
    "\n",
    "Date: **Dec 29, 2021**\n",
    "\n",
    "# Introduction\n",
    "More great results here\n",
    "# Bibliography"
   ]
  }
 ],
 "metadata": {},
 "nbformat": 4,
 "nbformat_minor": 4
}
