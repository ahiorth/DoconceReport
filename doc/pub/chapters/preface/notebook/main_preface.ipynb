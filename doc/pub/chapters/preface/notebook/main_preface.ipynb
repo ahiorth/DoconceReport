{
 "cells": [
  {
   "cell_type": "markdown",
   "metadata": {},
   "source": [
    "<!-- dom:TITLE: Chapter Preface -->\n",
    "# Chapter Preface\n",
    "<!-- dom:AUTHOR: Aksel Hiorth Institute for Energy Resources, -->\n",
    "<!-- Author: -->  \n",
    "**Aksel Hiorth Institute for Energy Resources,**\n",
    "University of Stavanger\n",
    "\n",
    "Date: **Dec 29, 2021**\n",
    "\n",
    "# Preface\n",
    "This thesis is awesome! Add references in a BiBTeX file, e.g. `papers.bib` and do"
   ]
  },
  {
   "cell_type": "code",
   "execution_count": 1,
   "metadata": {
    "collapsed": false
   },
   "outputs": [],
   "source": [
    "publish import papers.bib"
   ]
  },
  {
   "cell_type": "markdown",
   "metadata": {},
   "source": [
    "This how you cite [[langtangen1999computational]](#langtangen1999computational)\n",
    "# Bibliography\n",
    "\n",
    "\n",
    "1. <div id=\"langtangen1999computational\"></div> **H. P. Langtangen**. \n",
    "    *Computational Partial Differential Equations: Numerical Methods and Diffpack Programming*,\n",
    "    Springer Berlin,\n",
    "    1999."
   ]
  }
 ],
 "metadata": {},
 "nbformat": 4,
 "nbformat_minor": 4
}
