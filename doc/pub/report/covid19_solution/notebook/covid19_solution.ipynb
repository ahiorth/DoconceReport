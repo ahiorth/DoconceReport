{
 "cells": [
  {
   "cell_type": "markdown",
   "metadata": {},
   "source": [
    "<!-- dom:TITLE: Covid-19, data and a simple compartment model -->\n",
    "# Covid-19, data and a simple compartment model\n",
    "<!-- To get Norwegian Characters work in different format -->\n",
    "\n",
    "<!-- dom:AUTHOR: Aksel Hiorth and Oddbjorn Nodland -->\n",
    "<!-- Author: -->  \n",
    "**Aksel Hiorth and Oddbjorn Nodland**\n",
    "\n",
    "Date: **Dec 29, 2021**"
   ]
  },
  {
   "cell_type": "code",
   "execution_count": 1,
   "metadata": {
    "collapsed": false
   },
   "outputs": [],
   "source": [
    "%matplotlib inline\n",
    "\n",
    "# Import the packages we plan to use\n",
    "import matplotlib.pyplot as plt\n",
    "import numpy as np\n",
    "import pandas as pd"
   ]
  },
  {
   "cell_type": "markdown",
   "metadata": {},
   "source": [
    "**Abstract.** In this project, a simple $SI$ (Susceptible, Infected)-model is used to analyze\n",
    "the first 250 days of the Corona virus outbreak. In areas with high population\n",
    "density, a model with a constant disease transmission rate, $\\beta$, fits the\n",
    "data well, provided we match the total number of infected people to the data.\n",
    "In areas with a lower population density, as in the Nordic countries,\n",
    "the same model works poorly.\n",
    "Extending the model to allow for a time-dependent $\\beta$ makes it possible\n",
    "to account for varying governmental responses among countries.\n",
    "The results presented here supports the notion that the governmental\n",
    "response was stronger in Hubei, China compared to Norway.\n",
    "\n",
    "\n",
    "\n",
    "\n",
    "# Introduction\n",
    "\n",
    "The Corona virus disease, COVID-19, is brought on by infectious contact with\n",
    "*SARS-CoV-2, severe acute respiratory syndrome corona virus 2* [[SarsCov2]](#SarsCov2).\n",
    "Since its original discovery in Wuhan, China [[zhou2020pneumonia]](#zhou2020pneumonia), it\n",
    "spread rapidly to most of the world's countries and has cause a pandemic\n",
    "we are still in the middle of.\n",
    "\n",
    "In this project we investigate the 250 first days of the Corona virus outbreak.\n",
    "The project is divided into two parts. In the first part, we import and view\n",
    "data on reported number of confirmed cases using the Python libraries `pandas`\n",
    "and `matplotlib`. The data can be freely downloaded from the Johns Hopkins\n",
    "git repository,\n",
    "[Center for Systems Science and Engineering (CSSE) at\n",
    "Johns Hopkins University](https://github.com/CSSEGISandData/COVID-19).\n",
    "In the second part, we use a mathematical compartment model to interpret\n",
    "the data.\n",
    "Finally, we present our conclusions as well as reflections about what we\n",
    "learned working on the project.\n",
    "\n",
    "\n",
    "\n",
    "# Exercise 1\n",
    "\n",
    "\n",
    "\n",
    "**Part 1.**\n",
    "\n",
    "We start by reading the contents of the text file `corona_data.dat` into a\n",
    "`pandas.DataFrame` object:"
   ]
  },
  {
   "cell_type": "code",
   "execution_count": 2,
   "metadata": {
    "collapsed": false
   },
   "outputs": [],
   "source": [
    "df = pd.read_csv('../data/corona_data.dat', sep='\\t')"
   ]
  },
  {
   "cell_type": "markdown",
   "metadata": {},
   "source": [
    "In the text file, columns of data are separated by a tab (`\\t`) marker.\n",
    "Therefore, we have to use the command `sep='\\t'` in order for the `read_csv`\n",
    "function to work properly\n",
    "(as explained in the [documentation](https://pandas.pydata.org/docs/reference/api/pandas.read_csv.html))\n",
    "\n",
    "\n",
    "**Part 2.**\n",
    "\n",
    "The data frame, `df`, now contains COVID-19 data from all countries,\n",
    "as well as several regions and other kinds of locations. If we want\n",
    "to extract only the data for a specific country, say Afghanistan,\n",
    "we can also do that very easily with `pandas`:"
   ]
  },
  {
   "cell_type": "code",
   "execution_count": 3,
   "metadata": {
    "collapsed": false
   },
   "outputs": [],
   "source": [
    "df = df[df['LOCATION'] == 'Afghanistan']"
   ]
  },
  {
   "cell_type": "markdown",
   "metadata": {},
   "source": [
    "The innermost command (`df['LOCATION'] == 'Afghanistan'`) returns an array\n",
    "of boolean variables (i.e., either `True` or `False`) signifying which entries\n",
    "have \"Afghanistan\" in the location column. Since `pandas` supports\n",
    "[boolean masking](https://pandas.pydata.org/pandas-docs/stable/user_guide/indexing.html),\n",
    "this array can in turn be passed to the original data frame,\n",
    "giving back a sub-data frame containing only the rows corresponding to\n",
    "`True`.\n",
    "\n",
    "\n",
    "**Part 3.**\n",
    "\n",
    "Since we are interested in comparing data for different locations, we create\n",
    "a Python function that returns the data for one specific location:"
   ]
  },
  {
   "cell_type": "code",
   "execution_count": 4,
   "metadata": {
    "collapsed": false
   },
   "outputs": [],
   "source": [
    "def get_corona_data(location, data_file='../data/corona_data.dat'):\n",
    "    \"\"\"\n",
    "    Extracts COVID-19 data for a specific location.\n",
    "\n",
    "    :param location: The name of the location (case-sensitive).\n",
    "    :param data_file: Path to file holding the COVID-19 data.\n",
    "                      It is expected that columns of data are\n",
    "                      separated by tabs, and that there is a\n",
    "                      column called \"LOCATION\" with names of\n",
    "                      each country, region, etc.\n",
    "    :return: A pandas Data Frame with COVID-19 data for the\n",
    "             input location.\n",
    "    \"\"\"\n",
    "    df = pd.read_csv(data_file, sep='\\t')\n",
    "    try:\n",
    "        df = df[df['LOCATION'] == location]\n",
    "    except:\n",
    "        print(f'Could not find data for location {location}...')\n",
    "        return None\n",
    "    return df"
   ]
  },
  {
   "cell_type": "markdown",
   "metadata": {},
   "source": [
    "# Exercise 2\n",
    "\n",
    "\n",
    "\n",
    "**Part 1.**\n",
    "\n",
    "As an example of how to visualize the data, we again use Afghanistan.\n",
    "However, note that we will not spend time on interpreting the outbreak in\n",
    "this country.\n",
    "\n",
    "Before making any plots, we choose to extract the underlying NumPy arrays\n",
    "holding the data on time and confirmed cases:"
   ]
  },
  {
   "cell_type": "code",
   "execution_count": 5,
   "metadata": {
    "collapsed": false
   },
   "outputs": [],
   "source": [
    "time = df['ELAPSED_TIME_SINCE_OUTBREAK'].to_numpy()\n",
    "confirmed = df['CONFIRMED'].to_numpy()"
   ]
  },
  {
   "cell_type": "markdown",
   "metadata": {},
   "source": [
    "Note that this is not really necessary, because we can also pass\n",
    "`pandas.DataSeries` objects directly to the plotting commands\n",
    "\n",
    "[Tip 1: If you are uncertain about what kind of an object a variable `x`\n",
    "refers to, the command `type(x)` provides the answer! ]\n",
    "\n",
    "\n",
    "**Part 2.**\n",
    "\n",
    "To visualize the data for Afghanistan, we input the arrays from the\n",
    "previous part to the `scatter` function provided by `matplotlib`:"
   ]
  },
  {
   "cell_type": "code",
   "execution_count": 6,
   "metadata": {
    "collapsed": false
   },
   "outputs": [],
   "source": [
    "fig, ax = plt.subplots()\n",
    "ax.grid()\n",
    "ax.set_xlabel('Time since initial outbreak (days)')\n",
    "ax.set_ylabel('Number of confirmed cases')\n",
    "ax.scatter(time, confirmed, color='black')"
   ]
  },
  {
   "cell_type": "markdown",
   "metadata": {},
   "source": [
    "**Part 3.** and 4\n",
    "\n",
    "\n",
    "Generalizing what we just did, we write a Python function to create plots for\n",
    "an *arbitrary location*:"
   ]
  },
  {
   "cell_type": "code",
   "execution_count": 7,
   "metadata": {
    "collapsed": false
   },
   "outputs": [],
   "source": [
    "def plot_confirmed_cases(location, data_file='../data/corona_data.dat'):\n",
    "    \"\"\"\n",
    "    Plots the number of confirmed COVID-19 cases for a specific\n",
    "    location.\n",
    "\n",
    "    :param location: The name of the location (case-sensitive).\n",
    "    :param data_file: Path to file holding the COVID-19 data.\n",
    "                      It is expected that columns of data are\n",
    "                      separated by tabs, and that there is a\n",
    "                      column called \"LOCATION\" with names of\n",
    "                      each country, region, etc.\n",
    "    :return: A matplotlib.pyplot.figure object.\n",
    "    \"\"\"\n",
    "    # Get data\n",
    "    df = get_corona_data(location, data_file)\n",
    "    time = df['ELAPSED_TIME_SINCE_OUTBREAK'].to_numpy()\n",
    "    confirmed = df['CONFIRMED'].to_numpy()\n",
    "\n",
    "    # Make plot\n",
    "    fig, ax = plt.subplots()\n",
    "    ax.set_title(location)\n",
    "    ax.grid()\n",
    "    ax.set_xlabel('Time since initial outbreak (days)')\n",
    "    ax.set_ylabel('Number of confirmed cases')\n",
    "    ax.scatter(time, confirmed, color='black')\n",
    "    return fig"
   ]
  },
  {
   "cell_type": "markdown",
   "metadata": {},
   "source": [
    "Note that we return the figure object from the function; this allows us to\n",
    "customize the plot further outside of the function should we wish to do so.\n",
    "\n",
    "\n",
    "**Part 5.**\n",
    "\n",
    "Next, we plot number of confirmed cases in Hubei and Norway:"
   ]
  },
  {
   "cell_type": "code",
   "execution_count": 8,
   "metadata": {
    "collapsed": false
   },
   "outputs": [],
   "source": [
    "fig_hubei = plot_confirmed_cases('Hubei')\n",
    "fig_norway = plot_confirmed_cases('Norway')"
   ]
  },
  {
   "cell_type": "markdown",
   "metadata": {},
   "source": [
    "To build intuition about the COVID-19 outbreak, we want to compare the data with\n",
    "a simple mathematical model. Therefore, we will come back to these data\n",
    "below, after having introduced our model of choice.\n",
    "\n",
    "# Using the SI-model to describe the spread of COVID-19\n",
    "\n",
    "Most models for epidemics are some sort of compartment model [[kermack1927contribution]](#kermack1927contribution).\n",
    "These models first divide the total population into a set of boxes or compartments,\n",
    "each of which represents a possible \"disease state\" (healthy, exposed, infected, recovered, vaccinated, dead, etc.)\n",
    "Next, differential equations are set up to describe how individuals \"flow\"\n",
    "from one compartment to another. Obviously, compartment models come in many\n",
    "different flavors, and they have greatly varying complexity.\n",
    "Since this is an introductory project, we will use an extremely simple\n",
    "model, the *deterministic SI-model* [[batista2021simulation]](#batista2021simulation):"
   ]
  },
  {
   "cell_type": "markdown",
   "metadata": {},
   "source": [
    "<!-- Equation labels as ordinary links -->\n",
    "<div id=\"eq:SI_susceptible\"></div>\n",
    "\n",
    "$$\n",
    "\\begin{equation}\n",
    "\\label{eq:SI_susceptible} \\tag{1}\n",
    "\\frac{\\mathrm{d}S(t)}{\\mathrm{d}t} = -\\beta\\cdot\\frac{S(t)I(t)}{N} \n",
    "\\end{equation}\n",
    "$$"
   ]
  },
  {
   "cell_type": "markdown",
   "metadata": {},
   "source": [
    "<!-- Equation labels as ordinary links -->\n",
    "<div id=\"eq:SI_infected\"></div>\n",
    "\n",
    "$$\n",
    "\\begin{equation}  \n",
    "\\label{eq:SI_infected} \\tag{2}\n",
    "\\frac{\\mathrm{d}I(t)}{\\mathrm{d}t} = +\\beta\\cdot\\frac{S(t)I(t)}{N} \\,.\n",
    "\\end{equation}\n",
    "$$"
   ]
  },
  {
   "cell_type": "markdown",
   "metadata": {},
   "source": [
    "In the above equations, $N$ is the total population size, $S(t)$ denotes the\n",
    "number of susceptible people at time $t$, the population at risk of being\n",
    "infected, while $I(t)$ denotes the number of infected (sick) individuals.\n",
    "Since there are only two compartments, we must have $S(t)+I(t)=N$ at all times.\n",
    "This implies that people never die or recover from the disease, and that\n",
    "eventually everyone will be infected, a clear weakness with the model.\n",
    "\n",
    "\n",
    "# Exercise 3\n",
    "<div id=\"exercise:no_hope\"></div>\n",
    "\n",
    "\n",
    "\n",
    "**Part 1.**\n",
    "\n",
    "The analytical solution to equation ([2](#eq:SI_infected)) can be derived by\n",
    "first inserting $S(t)=N-I(t)$, separating variables, and integrating:"
   ]
  },
  {
   "cell_type": "markdown",
   "metadata": {},
   "source": [
    "<!-- Equation labels as ordinary links -->\n",
    "<div id=\"_auto1\"></div>\n",
    "\n",
    "$$\n",
    "\\begin{equation}\n",
    "\\displaystyle\\int_{I_0}^{I(t)}\\frac{\\mathrm{d}I(t)}{I(t)(N-I(t))} \\mathrm{d}I\n",
    "= \\displaystyle\\int_{0}^{t}\\beta\\mathrm{d}t=\\beta t\\,,\n",
    "\\label{_auto1} \\tag{3}\n",
    "\\end{equation}\n",
    "$$"
   ]
  },
  {
   "cell_type": "markdown",
   "metadata": {},
   "source": [
    "where $I_0=I(0)$. To calculate the integral on the left, we can use use partial\n",
    "fractions to split the integrand into a sum of two parts:"
   ]
  },
  {
   "cell_type": "markdown",
   "metadata": {},
   "source": [
    "<!-- Equation labels as ordinary links -->\n",
    "<div id=\"_auto2\"></div>\n",
    "\n",
    "$$\n",
    "\\begin{equation}\n",
    "\\displaystyle\\int_{I_0}^{I(t)}\\left(\\frac{1}{I} + \\frac{1}{N-I}\\right)\n",
    "\\mathrm{d}I = \\left[\\ln{I} - \\ln{(N-I)}\\right]_{I_0}^{I(t)} \n",
    "\\label{_auto2} \\tag{4}\n",
    "\\end{equation}\n",
    "$$"
   ]
  },
  {
   "cell_type": "markdown",
   "metadata": {},
   "source": [
    "<!-- Equation labels as ordinary links -->\n",
    "<div id=\"_auto3\"></div>\n",
    "\n",
    "$$\n",
    "\\begin{equation}  \n",
    "= \\ln{(\\frac{I}{N-I})}_{I_0}^{I(t)}  \n",
    "\\label{_auto3} \\tag{5}\n",
    "\\end{equation}\n",
    "$$"
   ]
  },
  {
   "cell_type": "markdown",
   "metadata": {},
   "source": [
    "<!-- Equation labels as ordinary links -->\n",
    "<div id=\"_auto4\"></div>\n",
    "\n",
    "$$\n",
    "\\begin{equation}  \n",
    "= \\ln{\\frac{I(t)}{N-I(t)}} - \\ln{\\frac{I_0}{N-I_0}} \n",
    "\\label{_auto4} \\tag{6}\n",
    "\\end{equation}\n",
    "$$"
   ]
  },
  {
   "cell_type": "markdown",
   "metadata": {},
   "source": [
    "<!-- Equation labels as ordinary links -->\n",
    "<div id=\"_auto5\"></div>\n",
    "\n",
    "$$\n",
    "\\begin{equation}  \n",
    "= \\ln{\\frac{I(t)}{N-I(t)}} + \\ln{\\frac{S_0}{I_0}}\\,.\n",
    "\\label{_auto5} \\tag{7}\n",
    "\\end{equation}\n",
    "$$"
   ]
  },
  {
   "cell_type": "markdown",
   "metadata": {},
   "source": [
    "Hence, taking the exponential on both sides of the original integral:"
   ]
  },
  {
   "cell_type": "markdown",
   "metadata": {},
   "source": [
    "<!-- Equation labels as ordinary links -->\n",
    "<div id=\"_auto6\"></div>\n",
    "\n",
    "$$\n",
    "\\begin{equation}\n",
    "\\frac{I(t)}{N-I(t)} = \\frac{I_0}{S_0}\\cdot \\exp{(\\beta t)}  \n",
    "\\label{_auto6} \\tag{8}\n",
    "\\end{equation}\n",
    "$$"
   ]
  },
  {
   "cell_type": "markdown",
   "metadata": {},
   "source": [
    "<!-- Equation labels as ordinary links -->\n",
    "<div id=\"eq:It_analytical\"></div>\n",
    "\n",
    "$$\n",
    "\\begin{equation}  \n",
    "\\label{eq:It_analytical} \\tag{9}\n",
    "I(t) = \\frac{S_0+I_0}{1+\\frac{S_0}{I_0}\\exp(-\\beta{t})}\\,.\n",
    "\\end{equation}\n",
    "$$"
   ]
  },
  {
   "cell_type": "markdown",
   "metadata": {},
   "source": [
    "where $S_0=S(0)$, and where we have used that $S_0 + I_0=N$.\n",
    "Finally, the number of susceptible people are:"
   ]
  },
  {
   "cell_type": "markdown",
   "metadata": {},
   "source": [
    "<!-- Equation labels as ordinary links -->\n",
    "<div id=\"eq:St_analytical\"></div>\n",
    "\n",
    "$$\n",
    "\\begin{equation}\n",
    "\\label{eq:St_analytical} \\tag{10}\n",
    "S(t) = N - I(t) = \\frac{(S_0+I_0)\\frac{S_0}{I_0}\\exp(-\\beta{t})}{1+\\frac{S_0}{I_0}\\exp(-\\beta{t})} \\,.\n",
    "\\end{equation}\n",
    "$$"
   ]
  },
  {
   "cell_type": "markdown",
   "metadata": {},
   "source": [
    "# Exercise 4\n",
    "\n",
    "\n",
    "\n",
    "**Part 1.**\n",
    "\n",
    "The following Python function calculates the analytical solution\n",
    "to the SI-model, equations ([10](#eq:St_analytical))\n",
    "and ([9](#eq:It_analytical)):"
   ]
  },
  {
   "cell_type": "code",
   "execution_count": 9,
   "metadata": {
    "collapsed": false
   },
   "outputs": [],
   "source": [
    "def calc_SI_model(t, S0, I0, beta):\n",
    "    \"\"\"\n",
    "    :param t: An array of times.\n",
    "    :param S0: The initial number of susceptible people.\n",
    "    :param I0: The initial number of infected people.\n",
    "    :param beta: The disease transmission rate parameter.\n",
    "    :return: A tuple of arrays holding S(t) and I(t).\n",
    "    \"\"\"\n",
    "    I = (S0+I0)/(1.0 + S0*np.exp(-beta*t)/I0)\n",
    "    S = S0 + I0 - I\n",
    "    return S, I"
   ]
  },
  {
   "cell_type": "markdown",
   "metadata": {},
   "source": [
    "**Part 2.**\n",
    "\n",
    "Next, we implement a new function that combines the SI-model with the\n",
    "plot function:"
   ]
  },
  {
   "cell_type": "code",
   "execution_count": 10,
   "metadata": {
    "collapsed": false
   },
   "outputs": [],
   "source": [
    "def compare_confirmed_cases_with_model(location, S0, I0, beta,\n",
    "                                       data_file='../data/corona_data.dat'):\n",
    "    \"\"\"\n",
    "    Plots the number of confirmed COVID-19 cases for a specific\n",
    "    location.\n",
    "\n",
    "    :param location: The name of the location (case-sensitive).\n",
    "    :param S0: The initial number of susceptibles in the model.\n",
    "    :param I0: The initial number of infected people in the model.\n",
    "    :param beta: The model disease transmission rate parameter.\n",
    "    :param data_file: Path to file holding the COVID-19 data.\n",
    "                      It is expected that columns of data are\n",
    "                      separated by tabs, and that there is a\n",
    "                      column called \"LOCATION\" with names of\n",
    "                      each country, region, etc.\n",
    "    :return: A matplotlib.pyplot.figure object.\n",
    "    \"\"\"\n",
    "    # Calculate S(t) and I(t) from the analytical solution\n",
    "    t = np.linspace(0, 250, 251)\n",
    "    St, It = calc_SI_model(t, S0, I0, beta)\n",
    "\n",
    "    # Plot the data, and return the data\n",
    "    fig = plot_confirmed_cases(location, data_file)\n",
    "    # Add modelled I(t) to the same figure\n",
    "    ax = fig.axes[0]\n",
    "    ax.plot(t, It)\n",
    "    return fig"
   ]
  },
  {
   "cell_type": "markdown",
   "metadata": {},
   "source": [
    "**Part 3.**\n",
    "\n",
    "The city of Wuhan is located in the province of Hubei. Since COVID-19 first\n",
    "arose in Wuhan [[zhou2020pneumonia]](#zhou2020pneumonia), the data for Hubei is of special\n",
    "interest when studying the dynamics of the disease transmission.\n",
    "As remarked previously, the simple SI-model predicts that everyone\n",
    "in the population will be infected eventually.\n",
    "On the other hand, the data for Hubei indicates that the Corona\n",
    "virus spread very quickly after the initial outbreak, but then reached a\n",
    "plateau level much lower than the total population size.\n",
    "Assuming the data to be trustworthy, this is most likely a consequence of\n",
    "strong countermeasures being put in place in Hubei.\n",
    "\n",
    "To match the model to the data, we therefore set $N$ equal to the final number\n",
    "of confirmed cases in Hubei. For simplicity we also assume that at time $t=0$,\n",
    "the number of infected individuals was $I_0=1$, hence $S_0=N-1$.\n",
    "We manually adjust $S_0$ and $\\beta$ to get a match between model and data:"
   ]
  },
  {
   "cell_type": "code",
   "execution_count": 11,
   "metadata": {
    "collapsed": false
   },
   "outputs": [],
   "source": [
    "df = get_corona_data('Hubei')\n",
    "N = df['CONFIRMED'].iloc[-1]\n",
    "fig_hubei_model = compare_confirmed_cases_with_model('Hubei', N-1, 1, 0.6)"
   ]
  },
  {
   "cell_type": "markdown",
   "metadata": {},
   "source": [
    "**Part 4.**\n",
    "\n",
    "For comparison purposes, it might be interesting to study how the virus\n",
    "spread in a more confined space. One such example comes from the\n",
    "cruise ship *Diamond Princess*.\n",
    "There were $S_0=712$ confirmed cases of the Corona virus aboard\n",
    "the cruise ship [[WikiDiamondPrincess]](#WikiDiamondPrincess).\n",
    "If we use the same $\\beta$-value we history-matched to the Hubei data,\n",
    "we get:"
   ]
  },
  {
   "cell_type": "code",
   "execution_count": 12,
   "metadata": {
    "collapsed": false
   },
   "outputs": [],
   "source": [
    "compare_confirmed_cases_with_model('Diamond Princess', 712, 1, 0.6)"
   ]
  },
  {
   "cell_type": "markdown",
   "metadata": {},
   "source": [
    "It should be remarked that the total number of passengers were\n",
    "about five times larger [[WikiDiamondPrincess]](#WikiDiamondPrincess).\n",
    "\n",
    "\n",
    "**Part 5.**\n",
    "\n",
    "As with the case of Hubei, we cannot use the total population size of Norway\n",
    "for $S_0$, because that would lead to millions of people being infected in\n",
    "the model calculation.\n",
    "A challenge with matching this particular data set is there is not a single\n",
    "plateau level for the disease; instead, there is a second wave starting at\n",
    "around 150 days. Therefore, the history-match will clearly be poorer for\n",
    "Norway overall than for the previous two locations.\n",
    "\n",
    "To make things simple, we ignore the second wave and only focus on the initial\n",
    "period. After 150 days, the number of confirmed cases is close to 8000-9000,\n",
    "so we choose $S_0=8000$:"
   ]
  },
  {
   "cell_type": "code",
   "execution_count": 13,
   "metadata": {
    "collapsed": false
   },
   "outputs": [],
   "source": [
    "compare_confirmed_cases_with_model('Norway', 8000, 1, 0.6)\n",
    "compare_confirmed_cases_with_model('Norway', 8000, 1, 0.27)"
   ]
  },
  {
   "cell_type": "markdown",
   "metadata": {},
   "source": [
    "As seen in the above two plots, we have to lower $\\beta$ in order to\n",
    "capture the trend in the data.\n",
    "One interpretation is that, initially, the disease spread more slowly in\n",
    "Norway than in Hubei. At the same time, the countermeasures were not as\n",
    "effective in Norway.\n",
    "\n",
    "\n",
    "# Exercise 5\n",
    "\n",
    "We have seen that the $SI$-model works quite well provided that\n",
    "the disease a) spreads very quickly, and b) levels out thereafter.\n",
    "However, there are several clear weaknesses with the model.\n",
    "One big problem has to do with the fact that there is only two compartments\n",
    "in the model; as remarked several times, this means that people\n",
    "can never recover from the disease in the model, i.e., everyone will eventually\n",
    "be infected. A more realistic model would add extra compartments, to account\n",
    "for not only recovered individuals, but also dead people, vaccinated ones, etc.\n",
    "\n",
    "Another issue has to do with the $\\beta$-factor, which is a measure of the\n",
    "\"effective probability of infection\". We have so far assumed $\\beta$ to be\n",
    "constant, but in reality we know that it should change with time.\n",
    "While some factors could lead to a larger risk of disease transmission\n",
    "(e.g., mutated variants of the virus [[adam2021scientists]](#adam2021scientists)),\n",
    "it is likely that $\\beta$ will decrease due to strong\n",
    "countermeasures put in place by the world's different governments.\n",
    "To capture this kind of behavior, we again use a simple model and\n",
    "suppose that $\\beta$ declines exponentially:"
   ]
  },
  {
   "cell_type": "markdown",
   "metadata": {},
   "source": [
    "<!-- Equation labels as ordinary links -->\n",
    "<div id=\"eq:p3:betaT\"></div>\n",
    "\n",
    "$$\n",
    "\\begin{equation}\n",
    "\\beta(t)=\\beta_0 e^{-\\lambda t}.\n",
    "\\label{eq:p3:betaT} \\tag{11}\n",
    "\\end{equation}\n",
    "$$"
   ]
  },
  {
   "cell_type": "markdown",
   "metadata": {},
   "source": [
    "One can prove that equations similar to ([9](#eq:It_analytical))\n",
    "and ([10](#eq:St_analytical)) still hold; all we have to do is to\n",
    "replace the product $\\beta t$ with"
   ]
  },
  {
   "cell_type": "markdown",
   "metadata": {},
   "source": [
    "<!-- Equation labels as ordinary links -->\n",
    "<div id=\"eq:l\"></div>\n",
    "\n",
    "$$\n",
    "\\begin{equation}\n",
    "\\beta t \\to \\int_0^t\\beta_0e^{-\\lambda t}dt=\\frac{\\beta_0}{\\lambda}(1-e^{-\\lambda t}).\n",
    "\\label{eq:l} \\tag{12}\n",
    "\\end{equation}\n",
    "$$"
   ]
  },
  {
   "cell_type": "markdown",
   "metadata": {},
   "source": [
    "In the above expression, $\\beta_0$ is the initial infection rate,\n",
    "while the exponential decline parameter, $\\lambda$, is used to capture\n",
    "effects of counter-measures: A high value of $\\lambda$ indicates strong\n",
    "disease-prevention, while in the limit $\\lambda\\rightarrow{0}$ we recover\n",
    "our original SI-model that has no intervention effects.\n",
    "\n",
    "\n",
    "\n",
    "**Part 1.**\n",
    "\n",
    "We implement the exponential decline model by modifying the\n",
    "functions we made previously: we include both $\\beta$ and $\\lambda$ as\n",
    "input arguments, and simply let $\\lambda=0$ by default:\n",
    "\n",
    "[Tip 2: If you choose this way of implementing your code,\n",
    "you are allowed to skip straight to the \"most advanced version\"\n",
    "in your handed-in project.\n",
    "This way you avoid copying and pasting almost identical code in your project,\n",
    "and you reduce the risk of introducing bugs!]"
   ]
  },
  {
   "cell_type": "code",
   "execution_count": 14,
   "metadata": {
    "collapsed": false
   },
   "outputs": [],
   "source": [
    "# We replace the old function \"calc_SI_model\" by this:\n",
    "def calc_SI_model(t, S0, I0, beta, lam=0.0):\n",
    "    \"\"\"\n",
    "    :param t: An array of times.\n",
    "    :param S0: The initial number of susceptible people.\n",
    "    :param I0: The initial number of infected people.\n",
    "    :param beta: The disease transmission rate parameter.\n",
    "    :param lam: Decline parameter for exponential decline\n",
    "                of beta (default: 0.0).\n",
    "    :return: A tuple of arrays holding S(t) and I(t).\n",
    "    \"\"\"\n",
    "    bt = (beta/lam)*(1.0 - np.exp(-lam*t)) if lam > 0 else beta*t\n",
    "    I = (S0+I0)/(1.0 + S0*np.exp(-bt)/I0)\n",
    "    S = S0 + I0 - I\n",
    "    return S, I"
   ]
  },
  {
   "cell_type": "markdown",
   "metadata": {},
   "source": [
    "Similarly, we update our last plotting function in two places by passing\n",
    "in the extra input argument:"
   ]
  },
  {
   "cell_type": "code",
   "execution_count": 15,
   "metadata": {
    "collapsed": false
   },
   "outputs": [],
   "source": [
    "# Replace the old \"comparison function\" with this:\n",
    "def compare_confirmed_cases_with_model(location,\n",
    "                                       S0,\n",
    "                                       I0,\n",
    "                                       beta,\n",
    "                                       lam=0.0,\n",
    "                                       data_file='../data/corona_data.dat'):\n",
    "    \"\"\"\n",
    "    Plots the number of confirmed COVID-19 cases for a specific\n",
    "    location.\n",
    "\n",
    "    :param location: The name of the location (case-sensitive).\n",
    "    :param S0: The initial number of susceptibles in the model.\n",
    "    :param I0: The initial number of infected people in the model.\n",
    "    :param beta: The model disease transmission rate parameter.\n",
    "    :param lam: Decline parameter for exponential decline\n",
    "                of beta (default: 0.0).\n",
    "    :param data_file: Path to file holding the COVID-19 data.\n",
    "                      It is expected that columns of data are\n",
    "                      separated by tabs, and that there is a\n",
    "                      column called \"LOCATION\" with names of\n",
    "                      each country, region, etc.\n",
    "    :return: A matplotlib.pyplot.figure object.\n",
    "    \"\"\"\n",
    "    # Calculate S(t) and I(t) from the analytical solution\n",
    "    t = np.linspace(0, 250, 251)\n",
    "    St, It = calc_SI_model(t, S0, I0, beta, lam)\n",
    "\n",
    "    # Plot the data, and return the data\n",
    "    fig = plot_confirmed_cases(location, data_file)\n",
    "    # Add modelled I(t) to the same figure\n",
    "    ax = fig.axes[0]\n",
    "    ax.plot(t, It)\n",
    "    return fig"
   ]
  },
  {
   "cell_type": "markdown",
   "metadata": {},
   "source": [
    "**Part 2.**\n",
    "\n",
    "The actual population size of Hubei has been reported\n",
    "as 57.8 million [[ChinaPopulation]](#ChinaPopulation). Let us try using this value\n",
    "as input to the exponential-decline SI-model. By repeated trial-and-error,\n",
    "we find a combination that works reasonably well:"
   ]
  },
  {
   "cell_type": "code",
   "execution_count": 16,
   "metadata": {
    "collapsed": false
   },
   "outputs": [],
   "source": [
    "compare_confirmed_cases_with_model('Hubei', 57.8e6, 1, 2.0, 0.18)"
   ]
  },
  {
   "cell_type": "markdown",
   "metadata": {},
   "source": [
    "Note that we have more than tripled the initial $\\beta$-factor compared to\n",
    "our previous match (now $\\beta_0=2$ vs. before 0.6) We are still able to\n",
    "capture the trend in the data, though, by tuning $\\lambda$ accordingly.\n",
    "This example illustrates the fact that different models may fit the same\n",
    "data equally well, and that values of fitted parameters do not always\n",
    "have a clear-cut \"physical interpretation\". However, as long as we apply the\n",
    "*same model to different locations* we may compare the fitted parameters and\n",
    "hopefully learn something useful.\n",
    "\n",
    "The updated SI-model behaves differently from the original one in that the\n",
    "disease outbreak will not reach the whole population.\n",
    "However, it is still the case that the model can only account a single wave.\n",
    "This is because $\\beta(t)\\rightarrow{0}$ as $t\\rightarrow{\\infty}$,\n",
    "which means that after some time, no one will be infected anymore,\n",
    "regardless of how many infectious individuals there are in the population.\n",
    "\n",
    "\n",
    "**Part 3.**\n",
    "\n",
    "The population of Norway is approximately 5.4 million [[NorwayPopSSB]](#NorwayPopSSB).\n",
    "If we use the $\\beta-$ and $\\lambda-$values fitted to the Hubei data in order\n",
    "to predict the disease outbreak in Norway, we get:"
   ]
  },
  {
   "cell_type": "code",
   "execution_count": 17,
   "metadata": {
    "collapsed": false
   },
   "outputs": [],
   "source": [
    "compare_confirmed_cases_with_model('Hubei', 5.4e6, 1, 2.0, 0.18)"
   ]
  },
  {
   "cell_type": "markdown",
   "metadata": {},
   "source": [
    "We see that we drastically over predict the number of COVID-19 cases in Norway.\n",
    "\n",
    "\n",
    "**Part 4.**\n",
    "\n",
    "By trial-and-error, we find an improved match for the initial disease\n",
    "transmission period in Norway:"
   ]
  },
  {
   "cell_type": "code",
   "execution_count": 18,
   "metadata": {
    "collapsed": false
   },
   "outputs": [],
   "source": [
    "compare_confirmed_cases_with_model('Norway', 5.4e6, 1, 0.8, 0.0898)"
   ]
  },
  {
   "cell_type": "markdown",
   "metadata": {},
   "source": [
    "If we can assume that the value of $\\lambda$ represents the government\n",
    "response, this means that while the initial outbreak was more severe in\n",
    "Hubei than in Norway, countermeasures were less strict in Norway\n",
    "($\\beta_{0, \\text{Hubei}}$ > $\\beta_{0, \\text{Norway}}$, $\\lambda_\\text{Norway}$ < $\\lambda_\\text{Hubei}$), which fits\n",
    "well with what has been reported in the media [[CovidGovResponseTracker]](#CovidGovResponseTracker).\n",
    "\n",
    "# Conclusion and Discussion\n",
    "\n",
    "\n",
    "It is surprising that the SI-model can describe the data so well.\n",
    "Countries are very different, but still the spread of COVID-19\n",
    "are captured using similar model parameters for different places.\n",
    "When interpreting the data, we  can therefore compare different countries\n",
    "quantitatively, e.g., how fast the disease spreads, and the strength of\n",
    "governmental responses.\n",
    "We find that the governmental countermeasures were much stronger in Hubei than\n",
    "in Norway. However, many more countries should be analyzed with the model\n",
    "before we can conclude that an exponential decline model for $\\beta$ makes\n",
    "sense.\n",
    "\n",
    "The work in this report supports the notion that we can use compartment\n",
    "models to analyze the Corona virus outbreak. To make the model more realistic,\n",
    "additional compartments should be introduced, to account for people are\n",
    "infected without being sick (asymptomatics), people who have recovered from\n",
    "the virus, dead people, vaccinated people, and so on.\n",
    "For large countries, or for very spread-out populations, compartments could also\n",
    "be introduced for different regions, and then one should allow for some sort of\n",
    "non-neighbor flow between them to account for traffic (buses, trains, airplanes etc.)\n",
    "\n",
    "# Self-reflections\n",
    "\n",
    "\n",
    "**Aksel:** I started too late on the projects, next time I will start immediately, visit the lab every Wednesday and work continuously. We worked quite well as a team. I enjoyed to see how we could use a model to analyze data, and extract knowledge. However, I think that the model is too simple to capture the complexity of how an infectious disease spreads. It would be very interesting to see how the model could be improved to capture more effects, like vaccination, social distancing, etc.\n",
    "\n",
    "**Oddbjorn:** I worked on the project in-between several other tasks, and I did most of the writing work close to the deadline. Though I think the project went reasonably well, it is probably better if I start earlier next time. Being a former mathematics student, I really enjoyed learning about how the Corona virus can be modelled with differential equations. The project allowed also gave me appreciation for how difficult it can be to analyze real-world data; it would be exciting to continue in the future by gradually extending the complexity of the model to allow for more realism!\n",
    "\n",
    "\n",
    "# Bibliography\n",
    "1. <div id=\"SarsCov2\"></div> **C. S. G. o. t. I. C. o. T. o. Viruses**. \n",
    "    The Species Severe Acute Respiratory Syndrome-Related Coronavirus: Classifying 2019-NCoV and Naming It SARS-CoV-2,\n",
    "    *Nature microbiology*,\n",
    "    5(4),\n",
    "    pp. 536,\n",
    "    2020.\n",
    "\n",
    "2. <div id=\"zhou2020pneumonia\"></div> **P. Zhou, X.-L. Yang, X.-G. Wang, B. Hu, L. Zhang, W. Zhang, H.-R. Si, Y. Zhu, B. Li, C.-L. Huang et al.**. \n",
    "    A Pneumonia Outbreak Associated With a New Coronavirus of Probable Bat Origin,\n",
    "    *Nature*,\n",
    "    579(7798),\n",
    "    pp. 270-273,\n",
    "    2020.\n",
    "\n",
    "3. <div id=\"kermack1927contribution\"></div> **W. O. Kermack and A. G. McKendrick**. \n",
    "    A Contribution to the Mathematical Theory of Epidemics—I,\n",
    "    *Proceedings of the Royal Society of London. Series A, Containing papers of a mathematical and physical character*,\n",
    "    115(772),\n",
    "    pp. 700-721,\n",
    "    1927.\n",
    "\n",
    "4. <div id=\"batista2021simulation\"></div> **A. M. Batista, S. L. Souza, K. C. Iarosz, A. C. Almeida, J. D. Szezech, E. C. Gabrick, M. Mugnaine, G. L. d. Santos and I. L. Caldas**. \n",
    "    Simulation of Deterministic Compartmental Models for Infectious Diseases Dynamics,\n",
    "    *arXiv preprint arXiv:2106.02085*,\n",
    "    2021.\n",
    "\n",
    "5. <div id=\"WikiDiamondPrincess\"></div> **Wikipedia**. \n",
    "    COVID-19 Pandemic on Diamond Princess,\n",
    "    2021,\n",
    "    Accessed: 2021-08-17,\n",
    "    <https://en.wikipedia.org/wiki/COVID-19_pandemic_on_Diamond_Princess>.\n",
    "\n",
    "6. <div id=\"adam2021scientists\"></div> **D. Adam**. \n",
    "    What Scientists Know About New, Fast-Spreading Coronavirus Variants.,\n",
    "    *Nature*,\n",
    "    2021.\n",
    "\n",
    "7. <div id=\"ChinaPopulation\"></div> **N. B. o. S. o. China**. \n",
    "    Communiqué of the Seventh National Population Census[1] (No. 3) - Population by Region,\n",
    "    November 1, 2020,\n",
    "    Accessed: 2021-08-17,\n",
    "    <http://www.stats.gov.cn/english/PressRelease/202105/t20210510_1817188.html>.\n",
    "\n",
    "8. <div id=\"NorwayPopSSB\"></div> **S. Norway**. \n",
    "    Population in Norway, 2nd Quarter 2021,\n",
    "    Updated: 19 August 2021,\n",
    "    Accessed: 2021-08-19,\n",
    "    <https://www.ssb.no/en/befolkning/folketall/statistikk/befolkning>.\n",
    "\n",
    "9. <div id=\"CovidGovResponseTracker\"></div> **U. o. O. B. S. o. Government**. \n",
    "    COVID-19 GOVERNMENT RESPONSE TRACKER,\n",
    "    2021,\n",
    "    Accessed: 2021-08-17,\n",
    "    <https://www.bsg.ox.ac.uk/research/research-projects/covid-19-government-response-tracker>."
   ]
  }
 ],
 "metadata": {},
 "nbformat": 4,
 "nbformat_minor": 4
}
